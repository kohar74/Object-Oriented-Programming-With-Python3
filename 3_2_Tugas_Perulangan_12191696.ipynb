{
 "cells": [
  {
   "cell_type": "code",
   "execution_count": null,
   "metadata": {
    "id": "fkV8YRAQlm-C"
   },
   "outputs": [],
   "source": []
  },
  {
   "cell_type": "markdown",
   "metadata": {
    "id": "lnkJ-zBHl3jp"
   },
   "source": [
    "## Access Element\n",
    "Keunikan lain dari looping dengan python adalah selain bahasa yang mudah dimengerti dalam looping, kita juga bisa mengakses elemen yang terdapat pada sebuah list. Berikut ini contohnya :\n",
    "``` javascript\n",
    "#Tugas 3.2.1\n",
    "count=[1,2,3,4,5] #elemen list\n",
    "\n",
    "for number in count: #looping untuk menampilkan semua elemen pada count\n",
    "    print(\"Ini adalah element count : \", number) #menampilkan elemen list pada count\n",
    "```\n",
    "Implekementasikan kode diatas, ketikan pada code cell di bawah ini, berikan penjelasan terkait kode diatas"
   ]
  },
  {
   "cell_type": "code",
   "execution_count": 1,
   "metadata": {
    "id": "xYjQqqNLm-dB"
   },
   "outputs": [
    {
     "name": "stdout",
     "output_type": "stream",
     "text": [
      "Ini adalah element count :  1\n",
      "Ini adalah element count :  2\n",
      "Ini adalah element count :  3\n",
      "Ini adalah element count :  4\n",
      "Ini adalah element count :  5\n"
     ]
    }
   ],
   "source": [
    "# Jawaban Tugas 3.2.1\n",
    "count=[1,2,3,4,5] #elemen list\n",
    "\n",
    "for number in count: #looping untuk menampilkan semua elemen pada count\n",
    "    print(\"Ini adalah element count : \", number) #menampilkan elemen list pada count"
   ]
  },
  {
   "cell_type": "markdown",
   "metadata": {
    "id": "figDWKAcnZRA"
   },
   "source": [
    "## Tugas Praktek 3.2.2\n",
    "1. Buatlah sebuah program yang bisa mengeluarkan angka 1 sampai 10.\n",
    "1. Buatlah sebuah program yang bisa mengeluarkan angka -20 sampai -50.\n",
    "3. Tampilan akan menunjukan \"Angka ganjil 1\" untuk angka ganjil dan \"Angka genap 2\" untuk angka genap. (Menggunakan looping for)\n",
    "\n",
    "**Note:** Kode dasar sudah disertakan, Anda cukup mengganti tanda # dengan nilai-nilai yang sesuai."
   ]
  },
  {
   "cell_type": "code",
   "execution_count": 8,
   "metadata": {
    "id": "MElhruOTntzZ"
   },
   "outputs": [
    {
     "name": "stdout",
     "output_type": "stream",
     "text": [
      "program 1\n",
      "\n",
      "Ini adalah element count :  1\n",
      "Ini adalah element count :  2\n",
      "Ini adalah element count :  3\n",
      "Ini adalah element count :  4\n",
      "Ini adalah element count :  5\n",
      "Ini adalah element count :  6\n",
      "Ini adalah element count :  7\n",
      "Ini adalah element count :  8\n",
      "Ini adalah element count :  9\n",
      "Ini adalah element count :  10\n",
      "Finally finished 1!\n",
      "\n",
      "program 2\n",
      "\n",
      "Ini adalah element count :  1\n",
      "Ini adalah element count :  2\n",
      "Ini adalah element count :  3\n",
      "Ini adalah element count :  4\n",
      "Ini adalah element count :  5\n",
      "Ini adalah element count :  6\n",
      "Ini adalah element count :  7\n",
      "Ini adalah element count :  8\n",
      "Ini adalah element count :  9\n",
      "Ini adalah element count :  10\n",
      "Finally finished 2!\n",
      "\n",
      "program 3\n",
      "\n",
      "Ini adalah element count :  1\n",
      "Ini adalah element count :  2\n",
      "Ini adalah element count :  3\n",
      "Ini adalah element count :  4\n",
      "Ini adalah element count :  5\n",
      "Ini adalah element count :  6\n",
      "Ini adalah element count :  7\n",
      "Ini adalah element count :  8\n",
      "Ini adalah element count :  9\n",
      "Ini adalah element count :  10\n",
      "Finally finished 3!\n"
     ]
    }
   ],
   "source": [
    "#Jawaban Tugas 3.2.1.1\n",
    "print(\"program 1\")\n",
    "print(\"\")\n",
    "count=[1,2,3,4,5,6,7,8,9,10] #elemen list\n",
    "for number in count: #looping untuk menampilkan semua elemen pada count\n",
    "    print(\"Ini adalah element count : \", number) #menampilkan elemen list pada count\n",
    "print(\"Finally finished 1!\")\n",
    "print(\"\")\n",
    "print(\"program 2\")\n",
    "print(\"\")\n",
    "for number in range(1,11): #looping untuk menampilkan semua elemen pada count\n",
    "    print(\"Ini adalah element count : \", number) #menampilkan elemen list pada count\n",
    "print(\"Finally finished 2!\")\n",
    "print(\"\")\n",
    "print(\"program 3\")\n",
    "print(\"\")\n",
    "count=1\n",
    "while count<11: #looping untuk menampilkan semua elemen pada count\n",
    "    print(\"Ini adalah element count : \",count) #menampilkan elemen list pada count\n",
    "    count = count + 1\n",
    "print(\"Finally finished 3!\")"
   ]
  },
  {
   "cell_type": "code",
   "execution_count": 7,
   "metadata": {
    "id": "NFtMjrQznuF2"
   },
   "outputs": [
    {
     "name": "stdout",
     "output_type": "stream",
     "text": [
      "Ini adalah element count :  -20\n",
      "Ini adalah element count :  -21\n",
      "Ini adalah element count :  -22\n",
      "Ini adalah element count :  -23\n",
      "Ini adalah element count :  -24\n",
      "Ini adalah element count :  -25\n",
      "Ini adalah element count :  -26\n",
      "Ini adalah element count :  -27\n",
      "Ini adalah element count :  -28\n",
      "Ini adalah element count :  -29\n",
      "Ini adalah element count :  -30\n",
      "Ini adalah element count :  -31\n",
      "Ini adalah element count :  -32\n",
      "Ini adalah element count :  -33\n",
      "Ini adalah element count :  -34\n",
      "Ini adalah element count :  -35\n",
      "Ini adalah element count :  -36\n",
      "Ini adalah element count :  -37\n",
      "Ini adalah element count :  -38\n",
      "Ini adalah element count :  -39\n",
      "Ini adalah element count :  -40\n",
      "Ini adalah element count :  -41\n",
      "Ini adalah element count :  -42\n",
      "Ini adalah element count :  -43\n",
      "Ini adalah element count :  -44\n",
      "Ini adalah element count :  -45\n",
      "Ini adalah element count :  -46\n",
      "Ini adalah element count :  -47\n",
      "Ini adalah element count :  -48\n",
      "Ini adalah element count :  -49\n",
      "Ini adalah element count :  -50\n",
      "Finally finished!\n"
     ]
    }
   ],
   "source": [
    "#Jawaban Tugas 3.2.1.2\n",
    "count=-20\n",
    "while count>-51: #looping untuk menampilkan semua elemen pada count\n",
    "    print(\"Ini adalah element count : \",count) #menampilkan elemen list pada count\n",
    "    count = count - 1\n",
    "print(\"Finally finished!\")"
   ]
  },
  {
   "cell_type": "code",
   "execution_count": 3,
   "metadata": {
    "id": "xpGigMPBpBy7"
   },
   "outputs": [
    {
     "name": "stdout",
     "output_type": "stream",
     "text": [
      "0  termasuk bilangan genap\n",
      "1  termasuk bilangan ganjil\n",
      "2  termasuk bilangan genap\n",
      "3  termasuk bilangan ganjil\n",
      "4  termasuk bilangan genap\n",
      "5  termasuk bilangan ganjil\n",
      "6  termasuk bilangan genap\n",
      "7  termasuk bilangan ganjil\n",
      "8  termasuk bilangan genap\n",
      "9  termasuk bilangan ganjil\n"
     ]
    }
   ],
   "source": [
    "#Jawaban Tugas 3.2.1.3\n",
    "for angka in range(1,10):\n",
    "    x=angka%2\n",
    "    if x == 0:\n",
    "        print(angka,\" termasuk bilangan genap\")\n",
    "    else:\n",
    "        print(angka,\" termasuk bilangan ganjil\")"
   ]
  },
  {
   "cell_type": "code",
   "execution_count": null,
   "metadata": {},
   "outputs": [],
   "source": []
  }
 ],
 "metadata": {
  "colab": {
   "collapsed_sections": [],
   "name": "3.2_Tugas_Perulangan.ipynb",
   "provenance": []
  },
  "kernelspec": {
   "display_name": "Python 3",
   "language": "python",
   "name": "python3"
  },
  "language_info": {
   "codemirror_mode": {
    "name": "ipython",
    "version": 3
   },
   "file_extension": ".py",
   "mimetype": "text/x-python",
   "name": "python",
   "nbconvert_exporter": "python",
   "pygments_lexer": "ipython3",
   "version": "3.8.3"
  }
 },
 "nbformat": 4,
 "nbformat_minor": 4
}
